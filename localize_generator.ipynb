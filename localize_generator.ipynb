{
 "cells": [
  {
   "cell_type": "code",
   "execution_count": 22,
   "metadata": {},
   "outputs": [],
   "source": [
    "import torch\n",
    "from torch.utils.data import DataLoader, Dataset\n",
    "import os\n",
    "from PIL import Image\n",
    "import numpy as np\n",
    "import utils\n",
    "import matplotlib.pyplot as plt"
   ]
  },
  {
   "cell_type": "code",
   "execution_count": 23,
   "metadata": {},
   "outputs": [],
   "source": [
    "args = {}\n",
    "args[\"data_dir\"] = \"data/segmentation02/segmentation\"\n",
    "args[\"data\"] = \"segmentation02\""
   ]
  },
  {
   "cell_type": "code",
   "execution_count": 24,
   "metadata": {},
   "outputs": [],
   "source": [
    "dataloaders, dataset_sizes = utils.get_dataloaders(\n",
    "            args[\"data\"], args[\"data_dir\"], [\"train\", \"val\", \"test\"], batch_size=4, num_workers=8\n",
    "        )"
   ]
  },
  {
   "cell_type": "code",
   "execution_count": 25,
   "metadata": {},
   "outputs": [],
   "source": [
    "def calculate_bounding_box(mask):\n",
    "    non_zero_indices = np.nonzero(mask)\n",
    "    \n",
    "    x_coords = non_zero_indices[1]\n",
    "    y_coords = non_zero_indices[0]\n",
    "    \n",
    "    min_x = np.min(x_coords)\n",
    "    max_x = np.max(x_coords)\n",
    "    min_y = np.min(y_coords)\n",
    "    max_y = np.max(y_coords)\n",
    "    return (min_x, min_y, max_x, max_y)"
   ]
  },
  {
   "cell_type": "code",
   "execution_count": 28,
   "metadata": {},
   "outputs": [],
   "source": [
    "files = [\"list_train.txt\", \"list_val.txt\", \"list_test.txt\"]\n",
    "op_files = [\"list_train_loc.txt\", \"list_val_loc.txt\", \"list_test_loc.txt\"]\n",
    "for ip_file, op_file in zip(files, op_files):\n",
    "    with open(os.path.join(args[\"data_dir\"], op_file), \"w\") as op_file:\n",
    "        with open(os.path.join(args[\"data_dir\"], ip_file), \"r\") as file:\n",
    "            for line in file:\n",
    "                line = line.strip()\n",
    "                if line and line.split(\",\")[0] != \"filenames\":\n",
    "                    file_path, label_path = line.split(\",\")\n",
    "                    img_name = file_path.strip()\n",
    "                    label_name = label_path.strip()\n",
    "                    path = os.path.join(args[\"data_dir\"], label_name)\n",
    "                    mask = Image.open(path)\n",
    "                    mask_arr = np.array(mask)\n",
    "                    bb_heart = calculate_bounding_box((mask_arr == 85).astype(\"int\"))\n",
    "                    bb_lungs = calculate_bounding_box((mask_arr == 255).astype(\"int\"))\n",
    "                    op_file.write(file_path + \",heart,\" + \",\".join(map(str, bb_heart)) + \",lungs,\" + \",\".join(map(str, bb_lungs)) + \"\\n\" )"
   ]
  },
  {
   "cell_type": "code",
   "execution_count": null,
   "metadata": {},
   "outputs": [],
   "source": []
  }
 ],
 "metadata": {
  "kernelspec": {
   "display_name": "dl-asign",
   "language": "python",
   "name": "python3"
  },
  "language_info": {
   "codemirror_mode": {
    "name": "ipython",
    "version": 3
   },
   "file_extension": ".py",
   "mimetype": "text/x-python",
   "name": "python",
   "nbconvert_exporter": "python",
   "pygments_lexer": "ipython3",
   "version": "3.11.5"
  }
 },
 "nbformat": 4,
 "nbformat_minor": 2
}
