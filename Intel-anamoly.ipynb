{
 "cells": [
  {
   "cell_type": "code",
   "execution_count": 2,
   "metadata": {},
   "outputs": [
    {
     "ename": "ImportError",
     "evalue": "cannot import name 'AnomalyDetector' from 'anomalib' (/Users/rishitoshsingh/miniconda3/envs/dl-asign/lib/python3.11/site-packages/anomalib/__init__.py)",
     "output_type": "error",
     "traceback": [
      "\u001b[0;31m---------------------------------------------------------------------------\u001b[0m",
      "\u001b[0;31mImportError\u001b[0m                               Traceback (most recent call last)",
      "Cell \u001b[0;32mIn[2], line 9\u001b[0m\n\u001b[1;32m      7\u001b[0m \u001b[38;5;28;01mimport\u001b[39;00m \u001b[38;5;21;01mutils\u001b[39;00m\n\u001b[1;32m      8\u001b[0m \u001b[38;5;28;01mimport\u001b[39;00m \u001b[38;5;21;01mmatplotlib\u001b[39;00m\u001b[38;5;21;01m.\u001b[39;00m\u001b[38;5;21;01mpyplot\u001b[39;00m \u001b[38;5;28;01mas\u001b[39;00m \u001b[38;5;21;01mplt\u001b[39;00m\n\u001b[0;32m----> 9\u001b[0m \u001b[38;5;28;01mfrom\u001b[39;00m \u001b[38;5;21;01manomalib\u001b[39;00m \u001b[38;5;28;01mimport\u001b[39;00m AnomalyDetector\n",
      "\u001b[0;31mImportError\u001b[0m: cannot import name 'AnomalyDetector' from 'anomalib' (/Users/rishitoshsingh/miniconda3/envs/dl-asign/lib/python3.11/site-packages/anomalib/__init__.py)"
     ]
    }
   ],
   "source": [
    "import torch\n",
    "import torch.nn as nn\n",
    "import torch.optim as optim\n",
    "import os\n",
    "from PIL import Image\n",
    "import numpy as np\n",
    "import utils\n",
    "import matplotlib.pyplot as plt\n",
    "from anomalib import AnomalyDetector\n",
    "import simm"
   ]
  },
  {
   "cell_type": "code",
   "execution_count": null,
   "metadata": {},
   "outputs": [],
   "source": [
    "# Import the required modules\n",
    "from anomalib.data import MVTec\n",
    "from anomalib.models import Padim\n",
    "from anomalib.engine import Engine\n",
    "\n",
    "# Initialize the datamodule, model, and engine\n",
    "datamodule = MVTec(num_workers=0)\n",
    "# Specify backbone and layers\n",
    "model = Padim(backbone=\"resnet18\", layers=[\"layer1\", \"layer2\"])\n",
    "engine = Engine(image_metrics=[\"AUROC\"], pixel_metrics=[\"AUROC\"])\n",
    "\n",
    "# Train the model\n",
    "engine.fit(datamodule=datamodule, model=model)"
   ]
  }
 ],
 "metadata": {
  "kernelspec": {
   "display_name": "dl-asign",
   "language": "python",
   "name": "python3"
  },
  "language_info": {
   "codemirror_mode": {
    "name": "ipython",
    "version": 3
   },
   "file_extension": ".py",
   "mimetype": "text/x-python",
   "name": "python",
   "nbconvert_exporter": "python",
   "pygments_lexer": "ipython3",
   "version": "3.11.5"
  }
 },
 "nbformat": 4,
 "nbformat_minor": 2
}
